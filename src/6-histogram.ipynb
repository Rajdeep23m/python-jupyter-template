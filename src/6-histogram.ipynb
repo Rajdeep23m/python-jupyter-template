{
 "cells": [
  {
   "cell_type": "markdown",
   "metadata": {},
   "source": [
    "### Exercise 6: Histogram Customization"
   ]
  },
  {
   "cell_type": "code",
   "execution_count": null,
   "metadata": {},
   "outputs": [],
   "source": [
    "import matplotlib.pyplot as plt\n",
    "\n",
    "# Data\n",
    "data = [1, 2, 2, 3, 3, 3, 4, 4, 4, 4, 5]\n",
    "\n",
    "# Create the histogram\n",
    "plt.figure(figsize=(6, 4))\n",
    "plt.hist(data, bins=5, color='skyblue', edgecolor='black')  # Set color and edge\n",
    "\n",
    "# Customize the plot\n",
    "plt.title(\"Histogram of Data\", fontsize=14)\n",
    "plt.xlabel(\"Values\", fontsize=12)\n",
    "plt.ylabel(\"Frequency\", fontsize=12)\n",
    "plt.grid(axis='y', linestyle=\"--\", alpha=0.6)  # Grid for better readability\n",
    "\n",
    "# Show the plot\n",
    "plt.show()\n"
   ]
  }
 ],
 "metadata": {
  "language_info": {
   "name": "python"
  }
 },
 "nbformat": 4,
 "nbformat_minor": 2
}
