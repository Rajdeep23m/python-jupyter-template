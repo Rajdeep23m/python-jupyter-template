{
 "cells": [
  {
   "cell_type": "markdown",
   "metadata": {},
   "source": [
    "### Exercise 1: Line Plot Customization"
   ]
  },
  {
   "cell_type": "code",
   "execution_count": null,
   "metadata": {},
   "outputs": [],
   "source": [
    "import matplotlib.pyplot as plt\n",
    "import numpy as np\n",
    "\n",
    "# Generate data\n",
    "x = np.linspace(0, 10, 100)  # 100 points from 0 to 10\n",
    "y = x**2  # Square of x\n",
    "\n",
    "# Create the plot\n",
    "plt.figure(figsize=(8, 5))\n",
    "plt.plot(x, y, label=\"y = x²\", color=\"b\", linewidth=2)\n",
    "\n",
    "# Customize the plot\n",
    "plt.title(\"Line Plot of y = x²\", fontsize=14)\n",
    "plt.xlabel(\"X Values\", fontsize=12)\n",
    "plt.ylabel(\"Y Values\", fontsize=12)\n",
    "plt.grid(True, linestyle=\"--\", alpha=0.6)\n",
    "plt.legend()\n",
    "\n",
    "# Show the plot\n",
    "plt.show()\n"
   ]
  }
 ],
 "metadata": {
  "language_info": {
   "name": "python"
  }
 },
 "nbformat": 4,
 "nbformat_minor": 2
}
