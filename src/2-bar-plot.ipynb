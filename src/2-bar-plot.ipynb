{
 "cells": [
  {
   "cell_type": "markdown",
   "metadata": {},
   "source": [
    "### Exercise 2: Bar Plot with Colors"
   ]
  },
  {
   "cell_type": "code",
   "execution_count": null,
   "metadata": {},
   "outputs": [],
   "source": [
    "import matplotlib.pyplot as plt\n",
    "\n",
    "# Data\n",
    "categories = ['A', 'B', 'C', 'D']\n",
    "values = [5, 7, 3, 9]\n",
    "colors = ['red', 'blue', 'green', 'purple']  # Different colors for each bar\n",
    "\n",
    "# Create the bar plot\n",
    "plt.figure(figsize=(6, 4))\n",
    "plt.bar(categories, values, color=colors)\n",
    "\n",
    "# Customize the plot\n",
    "plt.title(\"Bar Plot of Categories\", fontsize=14)\n",
    "plt.xlabel(\"Categories\", fontsize=12)\n",
    "plt.ylabel(\"Values\", fontsize=12)\n",
    "plt.grid(axis='y', linestyle=\"--\", alpha=0.6)  # Grid for better readability\n",
    "\n",
    "# Show the plot\n",
    "plt.show()\n"
   ]
  }
 ],
 "metadata": {
  "language_info": {
   "name": "python"
  }
 },
 "nbformat": 4,
 "nbformat_minor": 2
}
