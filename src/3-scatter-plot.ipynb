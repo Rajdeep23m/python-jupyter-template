{
 "cells": [
  {
   "cell_type": "markdown",
   "metadata": {},
   "source": [
    "### Exercise 3: Scatter Plot with Annotations"
   ]
  },
  {
   "cell_type": "code",
   "execution_count": null,
   "metadata": {},
   "outputs": [],
   "source": [
    "import matplotlib.pyplot as plt\n",
    "\n",
    "# Data\n",
    "x = [1, 2, 3, 4, 5]\n",
    "y = [2, 4, 6, 8, 10]\n",
    "\n",
    "# Create the scatter plot\n",
    "plt.figure(figsize=(6, 4))\n",
    "plt.scatter(x, y, color='blue', marker='o')\n",
    "\n",
    "# Annotate each point\n",
    "for i in range(len(x)):\n",
    "    plt.text(x[i], y[i], f'({x[i]}, {y[i]})', fontsize=10, ha='right', va='bottom')\n",
    "\n",
    "# Customize the plot\n",
    "plt.title(\"Scatter Plot with Annotations\", fontsize=14)\n",
    "plt.xlabel(\"X Values\", fontsize=12)\n",
    "plt.ylabel(\"Y Values\", fontsize=12)\n",
    "plt.grid(True, linestyle=\"--\", alpha=0.6)\n",
    "\n",
    "# Show the plot\n",
    "plt.show()\n"
   ]
  }
 ],
 "metadata": {
  "language_info": {
   "name": "python"
  }
 },
 "nbformat": 4,
 "nbformat_minor": 2
}
