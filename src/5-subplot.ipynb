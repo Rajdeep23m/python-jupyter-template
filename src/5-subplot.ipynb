{
 "cells": [
  {
   "cell_type": "markdown",
   "metadata": {},
   "source": [
    "### Exercise 5: Subplot Layout"
   ]
  },
  {
   "cell_type": "code",
   "execution_count": null,
   "metadata": {},
   "outputs": [],
   "source": [
    "import matplotlib.pyplot as plt\n",
    "import numpy as np\n",
    "\n",
    "# Data for the plots\n",
    "x = np.linspace(0, 10, 100)\n",
    "y = x**2\n",
    "categories = ['A', 'B', 'C', 'D']\n",
    "values = [5, 7, 3, 9]\n",
    "scatter_x = [1, 2, 3, 4, 5]\n",
    "scatter_y = [2, 4, 6, 8, 10]\n",
    "labels = ['Python', 'Java', 'C++', 'JavaScript']\n",
    "sizes = [40, 25, 20, 15]\n",
    "\n",
    "# Create a 2x2 subplot layout\n",
    "fig, axes = plt.subplots(2, 2, figsize=(10, 8))\n",
    "\n",
    "# Line Plot (Top-Left)\n",
    "axes[0, 0].plot(x, y, color='b', linewidth=2)\n",
    "axes[0, 0].set_title(\"Line Plot\")\n",
    "axes[0, 0].set_xlabel(\"X Values\")\n",
    "axes[0, 0].set_ylabel(\"Y Values\")\n",
    "axes[0, 0].grid(True, linestyle=\"--\", alpha=0.6)\n",
    "\n",
    "# Bar Chart (Top-Right)\n",
    "axes[0, 1].bar(categories, values, color=['red', 'blue', 'green', 'purple'])\n",
    "axes[0, 1].set_title(\"Bar Chart\")\n",
    "axes[0, 1].set_xlabel(\"Categories\")\n",
    "axes[0, 1].set_ylabel(\"Values\")\n",
    "axes[0, 1].grid(axis='y', linestyle=\"--\", alpha=0.6)\n",
    "\n",
    "# Scatter Plot (Bottom-Left)\n",
    "axes[1, 0].scatter(scatter_x, scatter_y, color='blue', marker='o')\n",
    "axes[1, 0].set_title(\"Scatter Plot\")\n",
    "axes[1, 0].set_xlabel(\"X Values\")\n",
    "axes[1, 0].set_ylabel(\"Y Values\")\n",
    "axes[1, 0].grid(True, linestyle=\"--\", alpha=0.6)\n",
    "\n",
    "# Pie Chart (Bottom-Right)\n",
    "axes[1, 1].pie(s\n"
   ]
  }
 ],
 "metadata": {
  "language_info": {
   "name": "python"
  }
 },
 "nbformat": 4,
 "nbformat_minor": 2
}
