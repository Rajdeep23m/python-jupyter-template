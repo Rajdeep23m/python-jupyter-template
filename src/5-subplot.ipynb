import matplotlib.pyplot as plt
import numpy as np

# Data for the plots
x = np.linspace(0, 10, 100)
y = x**2
categories = ['A', 'B', 'C', 'D']
values = [5, 7, 3, 9]
scatter_x = [1, 2, 3, 4, 5]
scatter_y = [2, 4, 6, 8, 10]
labels = ['Python', 'Java', 'C++', 'JavaScript']
sizes = [40, 25, 20, 15]

# Create a 2x2 subplot layout
fig, axes = plt.subplots(2, 2, figsize=(10, 8))

# Line Plot (Top-Left)
axes[0, 0].plot(x, y, color='b', linewidth=2)
axes[0, 0].set_title("Line Plot")
axes[0, 0].set_xlabel("X Values")
axes[0, 0].set_ylabel("Y Values")
axes[0, 0].grid(True, linestyle="--", alpha=0.6)

# Bar Chart (Top-Right)
axes[0, 1].bar(categories, values, color=['red', 'blue', 'green', 'purple'])
axes[0, 1].set_title("Bar Chart")
axes[0, 1].set_xlabel("Categories")
axes[0, 1].set_ylabel("Values")
axes[0, 1].grid(axis='y', linestyle="--", alpha=0.6)

# Scatter Plot (Bottom-Left)
axes[1, 0].scatter(scatter_x, scatter_y, color='blue', marker='o')
axes[1, 0].set_title("Scatter Plot")
axes[1, 0].set_xlabel("X Values")
axes[1, 0].set_ylabel("Y Values")
axes[1, 0].grid(True, linestyle="--", alpha=0.6)

# Pie Chart (Bottom-Right)
axes[1, 1].pie(sizes, labels=labels, autopct='%1.1f%%', startangle=140, wedgeprops={'edgecolor': 'black'})
axes[1, 1].set_title("Pie Chart")

# Adjust layout
plt.tight_layout()
plt.show()
